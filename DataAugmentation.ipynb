{
  "nbformat": 4,
  "nbformat_minor": 0,
  "metadata": {
    "colab": {
      "name": "DataAugmentation.ipynb",
      "provenance": []
    },
    "kernelspec": {
      "name": "python3",
      "display_name": "Python 3"
    }
  },
  "cells": [
    {
      "cell_type": "code",
      "metadata": {
        "colab": {
          "base_uri": "https://localhost:8080/"
        },
        "id": "iKdPUjGDsWJp",
        "outputId": "1710fc8e-2410-43a0-f722-3c2de4d4e678"
      },
      "source": [
        "\r\n",
        "from keras.preprocessing.image import ImageDataGenerator,array_to_img, img_to_array, load_img \r\n",
        "from google.colab import drive\r\n",
        "drive.mount('/content/drive')\r\n",
        "import os\r\n",
        "import cv2\r\n",
        "from google.colab import files\r\n",
        "\r\n"
      ],
      "execution_count": 14,
      "outputs": [
        {
          "output_type": "stream",
          "text": [
            "Drive already mounted at /content/drive; to attempt to forcibly remount, call drive.mount(\"/content/drive\", force_remount=True).\n"
          ],
          "name": "stdout"
        }
      ]
    },
    {
      "cell_type": "code",
      "metadata": {
        "id": "4j2PrUMYssg5"
      },
      "source": [
        "\r\n",
        "images = []\r\n",
        "# for img_path in glob.glob('D:/Dataset/train/malignant2/*.png'):\r\n",
        "#     images.append(mpimg.imread(img_path))\r\n",
        "image_dir=\"/content/drive/My Drive/Photos/InSitu\"\r\n",
        "\r\n",
        "def listImagesFiles(image_dir):\r\n",
        "\r\n",
        "    listOfFile = os.listdir(image_dir)\r\n",
        "    allFiles = list()\r\n",
        "    for entry in listOfFile:\r\n",
        "        fullPath = os.path.join(image_dir, entry)\r\n",
        "        if os.path.isdir(fullPath):\r\n",
        "            allFiles = allFiles + listImagesFiles(fullPath)\r\n",
        "        else:\r\n",
        "            allFiles.append(fullPath)\r\n",
        "    return allFiles\r\n",
        "\r\n",
        "        \r\n",
        "        \r\n",
        "allFiles=listImagesFiles(image_dir)        \r\n",
        "\r\n",
        "for i, file in enumerate(allFiles):\r\n",
        "    \r\n",
        "    img = cv2.imread(file)\r\n",
        "    img = cv2.cvtColor(img, cv2.COLOR_BGR2RGB)\r\n",
        "\r\n",
        "    images.append(img)      \r\n",
        "\r\n",
        "#Data Augmentation\r\n",
        "    \r\n",
        "datagen = ImageDataGenerator( \r\n",
        "        rotation_range = 40, \r\n",
        "        shear_range = 0.2, \r\n",
        "        zoom_range = 0.0, \r\n",
        "        horizontal_flip = True, \r\n",
        "        brightness_range = (0.5, 1.5)) \r\n",
        "\r\n",
        "for i, image in enumerate(images):\r\n",
        "    \r\n",
        "    x = img_to_array(image) \r\n",
        "    x = x.reshape((1, ) + x.shape) \r\n",
        "    i = 0\r\n",
        "    for batch in datagen.flow(x, batch_size = 1, \r\n",
        "                              save_to_dir ='/content/drive/My Drive/augmented/InSitu',  \r\n",
        "                              save_prefix ='image', save_format ='tif'): \r\n",
        "        i += 1\r\n",
        "        if i > 5: \r\n",
        "            break"
      ],
      "execution_count": 15,
      "outputs": []
    },
    {
      "cell_type": "code",
      "metadata": {
        "id": "MqkY3sfqs6qV"
      },
      "source": [
        ""
      ],
      "execution_count": 15,
      "outputs": []
    }
  ]
}