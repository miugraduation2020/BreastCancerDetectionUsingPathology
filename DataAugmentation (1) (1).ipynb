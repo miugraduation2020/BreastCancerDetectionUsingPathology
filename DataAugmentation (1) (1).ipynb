{
 "cells": [
  {
   "cell_type": "code",
   "execution_count": 1,
   "metadata": {
    "colab": {
     "base_uri": "https://localhost:8080/"
    },
    "executionInfo": {
     "elapsed": 910,
     "status": "ok",
     "timestamp": 1610215789520,
     "user": {
      "displayName": "Maysoon Maysoon Hossam El Din Hassan Elbedewi",
      "photoUrl": "https://lh3.googleusercontent.com/a-/AOh14GioLFOs7NXHY_5IAUXDYK5Agx4QvwaRWiqrbXB6=s64",
      "userId": "11597891420496259491"
     },
     "user_tz": -120
    },
    "id": "iKdPUjGDsWJp",
    "outputId": "9fe4c996-5b0f-46f8-920e-27ad3795e513"
   },
   "outputs": [
    {
     "name": "stderr",
     "output_type": "stream",
     "text": [
      "Using TensorFlow backend.\n",
      "C:\\Users\\pc\\AppData\\Roaming\\Python\\Python37\\site-packages\\tensorflow\\python\\framework\\dtypes.py:516: FutureWarning: Passing (type, 1) or '1type' as a synonym of type is deprecated; in a future version of numpy, it will be understood as (type, (1,)) / '(1,)type'.\n",
      "  _np_qint8 = np.dtype([(\"qint8\", np.int8, 1)])\n",
      "C:\\Users\\pc\\AppData\\Roaming\\Python\\Python37\\site-packages\\tensorflow\\python\\framework\\dtypes.py:517: FutureWarning: Passing (type, 1) or '1type' as a synonym of type is deprecated; in a future version of numpy, it will be understood as (type, (1,)) / '(1,)type'.\n",
      "  _np_quint8 = np.dtype([(\"quint8\", np.uint8, 1)])\n",
      "C:\\Users\\pc\\AppData\\Roaming\\Python\\Python37\\site-packages\\tensorflow\\python\\framework\\dtypes.py:518: FutureWarning: Passing (type, 1) or '1type' as a synonym of type is deprecated; in a future version of numpy, it will be understood as (type, (1,)) / '(1,)type'.\n",
      "  _np_qint16 = np.dtype([(\"qint16\", np.int16, 1)])\n",
      "C:\\Users\\pc\\AppData\\Roaming\\Python\\Python37\\site-packages\\tensorflow\\python\\framework\\dtypes.py:519: FutureWarning: Passing (type, 1) or '1type' as a synonym of type is deprecated; in a future version of numpy, it will be understood as (type, (1,)) / '(1,)type'.\n",
      "  _np_quint16 = np.dtype([(\"quint16\", np.uint16, 1)])\n",
      "C:\\Users\\pc\\AppData\\Roaming\\Python\\Python37\\site-packages\\tensorflow\\python\\framework\\dtypes.py:520: FutureWarning: Passing (type, 1) or '1type' as a synonym of type is deprecated; in a future version of numpy, it will be understood as (type, (1,)) / '(1,)type'.\n",
      "  _np_qint32 = np.dtype([(\"qint32\", np.int32, 1)])\n",
      "C:\\Users\\pc\\AppData\\Roaming\\Python\\Python37\\site-packages\\tensorflow\\python\\framework\\dtypes.py:525: FutureWarning: Passing (type, 1) or '1type' as a synonym of type is deprecated; in a future version of numpy, it will be understood as (type, (1,)) / '(1,)type'.\n",
      "  np_resource = np.dtype([(\"resource\", np.ubyte, 1)])\n"
     ]
    }
   ],
   "source": [
    "\n",
    "from keras.preprocessing.image import ImageDataGenerator,array_to_img, img_to_array, load_img \n",
    "import os\n",
    "import cv2\n",
    "\n"
   ]
  },
  {
   "cell_type": "code",
   "execution_count": 2,
   "metadata": {
    "executionInfo": {
     "elapsed": 56134,
     "status": "ok",
     "timestamp": 1610220193834,
     "user": {
      "displayName": "Maysoon Maysoon Hossam El Din Hassan Elbedewi",
      "photoUrl": "https://lh3.googleusercontent.com/a-/AOh14GioLFOs7NXHY_5IAUXDYK5Agx4QvwaRWiqrbXB6=s64",
      "userId": "11597891420496259491"
     },
     "user_tz": -120
    },
    "id": "4j2PrUMYssg5"
   },
   "outputs": [],
   "source": [
    "\n",
    "images = []\n",
    "image_dir=\"D://BACHDataset//Train//Normal\"\n",
    "\n",
    "def listImagesFiles(image_dir):\n",
    "\n",
    "    listOfFile = os.listdir(image_dir)\n",
    "    allFiles = list()\n",
    "    for entry in listOfFile:\n",
    "        fullPath = os.path.join(image_dir, entry)\n",
    "        if os.path.isdir(fullPath):\n",
    "            allFiles = allFiles + listImagesFiles(fullPath)\n",
    "        else:\n",
    "            allFiles.append(fullPath)\n",
    "    return allFiles\n",
    "\n",
    "        \n",
    "        \n",
    "allFiles=listImagesFiles(image_dir)        \n",
    "base=[]\n",
    "\n",
    "for i, file in enumerate(allFiles):\n",
    "    base.append(os.path.basename(os.path.normpath(file)))\n",
    "\n",
    "    img = cv2.imread(file)\n",
    "    img = cv2.cvtColor(img, cv2.COLOR_BGR2RGB)\n",
    "\n",
    "    images.append(img)      \n",
    "\n",
    "#Data Augmentation\n",
    "    \n",
    "datagen = ImageDataGenerator( \n",
    "        rotation_range = 40, \n",
    "        shear_range = 0.2, \n",
    "        zoom_range = 0.0, \n",
    "        horizontal_flip = True, \n",
    "        brightness_range = (0.5, 1.5)) \n",
    "\n",
    "for i, (image, file) in enumerate(zip(images, base)):\n",
    "\n",
    "    x = img_to_array(image) \n",
    "    x = x.reshape((1, ) + x.shape) \n",
    "    i = 0\n",
    "    for batch in datagen.flow(x, batch_size = 1,\n",
    "                                save_to_dir ='D://BACHDataset//AugTrain//Normal',  \n",
    "                                save_prefix ='image' + file, save_format ='tif'): \n",
    "        i += 1\n",
    "        if i > 5: \n",
    "            break"
   ]
  },
  {
   "cell_type": "code",
   "execution_count": null,
   "metadata": {
    "id": "MqkY3sfqs6qV"
   },
   "outputs": [],
   "source": []
  },
  {
   "cell_type": "code",
   "execution_count": null,
   "metadata": {},
   "outputs": [],
   "source": []
  }
 ],
 "metadata": {
  "colab": {
   "authorship_tag": "ABX9TyOwLpZh4ytnPJ89K/CEL3B/",
   "name": "DataAugmentation.ipynb",
   "provenance": []
  },
  "kernelspec": {
   "display_name": "Python 3",
   "language": "python",
   "name": "python3"
  },
  "language_info": {
   "codemirror_mode": {
    "name": "ipython",
    "version": 3
   },
   "file_extension": ".py",
   "mimetype": "text/x-python",
   "name": "python",
   "nbconvert_exporter": "python",
   "pygments_lexer": "ipython3",
   "version": "3.7.9"
  }
 },
 "nbformat": 4,
 "nbformat_minor": 1
}
